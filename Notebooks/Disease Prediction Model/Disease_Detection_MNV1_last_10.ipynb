{
  "nbformat": 4,
  "nbformat_minor": 0,
  "metadata": {
    "colab": {
      "name": "mobilenetv1_PlantDiseaseFinal10epochs.ipynb",
      "provenance": [],
      "collapsed_sections": []
    },
    "kernelspec": {
      "name": "python3",
      "display_name": "Python 3"
    },
    "accelerator": "GPU"
  },
  "cells": [
    {
      "cell_type": "markdown",
      "metadata": {
        "id": "QUiSQsBRSkhL",
        "colab_type": "text"
      },
      "source": [
        "Plant Disease Prediction MobileNetV1 Last ten epochs."
      ]
    },
    {
      "cell_type": "code",
      "metadata": {
        "id": "5Lm94myalKjQ",
        "colab_type": "code",
        "colab": {}
      },
      "source": [
        "from tensorflow.keras.preprocessing.image import ImageDataGenerator"
      ],
      "execution_count": null,
      "outputs": []
    },
    {
      "cell_type": "code",
      "metadata": {
        "id": "pNLV_MhFlqJo",
        "colab_type": "code",
        "colab": {
          "base_uri": "https://localhost:8080/",
          "height": 50
        },
        "outputId": "aef3bbf0-ea1a-4428-af7f-8ba92d9f320b"
      },
      "source": [
        "train_datagen = ImageDataGenerator(\n",
        "      rescale=1./255,\n",
        "      rotation_range=20,\n",
        "      width_shift_range=0.2,\n",
        "      height_shift_range=0.2,\n",
        "      horizontal_flip=True,\n",
        "      fill_mode='nearest'\n",
        ")\n",
        " \n",
        "validation_datagen = ImageDataGenerator(rescale=1./255)\n",
        " \n",
        "# Change the batchsize according to system RAM\n",
        "train_batchsize = 64\n",
        "val_batchsize = 54\n",
        " \n",
        "train_generator = train_datagen.flow_from_directory(\n",
        "        '/content/drive/My Drive/Bihar_Crops/train',\n",
        "        target_size=(224,224),\n",
        "        batch_size=train_batchsize,\n",
        "        class_mode='categorical')\n",
        " \n",
        "validation_generator = validation_datagen.flow_from_directory(\n",
        "        '/content/drive/My Drive/Bihar_Crops/valid',\n",
        "        target_size=(224,224),\n",
        "        batch_size=val_batchsize,\n",
        "        class_mode='categorical',\n",
        "        shuffle=True)"
      ],
      "execution_count": null,
      "outputs": [
        {
          "output_type": "stream",
          "text": [
            "Found 31373 images belonging to 17 classes.\n",
            "Found 7811 images belonging to 17 classes.\n"
          ],
          "name": "stdout"
        }
      ]
    },
    {
      "cell_type": "code",
      "metadata": {
        "id": "ptlvW8TlFqI0",
        "colab_type": "code",
        "colab": {
          "base_uri": "https://localhost:8080/",
          "height": 302
        },
        "outputId": "541580ad-3150-49ae-e928-732d4d1be003"
      },
      "source": [
        "train_generator.class_indices"
      ],
      "execution_count": null,
      "outputs": [
        {
          "output_type": "execute_result",
          "data": {
            "text/plain": [
              "{'Corn_(maize)___Cercospora_leaf_spot Gray_leaf_spot': 0,\n",
              " 'Corn_(maize)___Common_rust': 1,\n",
              " 'Corn_(maize)___Northern_Leaf_Blight': 2,\n",
              " 'Corn_(maize)___healthy': 3,\n",
              " 'Potato___Early_blight': 4,\n",
              " 'Potato___Late_blight': 5,\n",
              " 'Potato___healthy': 6,\n",
              " 'Tomato___Bacterial_spot': 7,\n",
              " 'Tomato___Early_blight': 8,\n",
              " 'Tomato___Late_blight': 9,\n",
              " 'Tomato___Leaf_Mold': 10,\n",
              " 'Tomato___Septoria_leaf_spot': 11,\n",
              " 'Tomato___Spider_mites Two-spotted_spider_mite': 12,\n",
              " 'Tomato___Target_Spot': 13,\n",
              " 'Tomato___Tomato_Yellow_Leaf_Curl_Virus': 14,\n",
              " 'Tomato___Tomato_mosaic_virus': 15,\n",
              " 'Tomato___healthy': 16}"
            ]
          },
          "metadata": {
            "tags": []
          },
          "execution_count": 4
        }
      ]
    },
    {
      "cell_type": "code",
      "metadata": {
        "id": "vVG_ONlSXFti",
        "colab_type": "code",
        "colab": {
          "base_uri": "https://localhost:8080/",
          "height": 121
        },
        "outputId": "034da5de-8013-4bd8-a3c9-39db65c02854"
      },
      "source": [
        "from google.colab import drive\n",
        "drive.mount('/content/drive')"
      ],
      "execution_count": null,
      "outputs": [
        {
          "output_type": "stream",
          "text": [
            "Go to this URL in a browser: https://accounts.google.com/o/oauth2/auth?client_id=947318989803-6bn6qk8qdgf4n4g3pfee6491hc0brc4i.apps.googleusercontent.com&redirect_uri=urn%3aietf%3awg%3aoauth%3a2.0%3aoob&response_type=code&scope=email%20https%3a%2f%2fwww.googleapis.com%2fauth%2fdocs.test%20https%3a%2f%2fwww.googleapis.com%2fauth%2fdrive%20https%3a%2f%2fwww.googleapis.com%2fauth%2fdrive.photos.readonly%20https%3a%2f%2fwww.googleapis.com%2fauth%2fpeopleapi.readonly\n",
            "\n",
            "Enter your authorization code:\n",
            "··········\n",
            "Mounted at /content/drive\n"
          ],
          "name": "stdout"
        }
      ]
    },
    {
      "cell_type": "code",
      "metadata": {
        "id": "DHl-S0-qD3OE",
        "colab_type": "code",
        "colab": {
          "base_uri": "https://localhost:8080/",
          "height": 50
        },
        "outputId": "6e486ae6-e584-4bd0-f9eb-c0d5d0179452"
      },
      "source": [
        "from tensorflow.keras.applications.mobilenet import MobileNet\n",
        "xcep = MobileNet(weights='imagenet', include_top=False, input_shape=(224,224, 3)) "
      ],
      "execution_count": null,
      "outputs": [
        {
          "output_type": "stream",
          "text": [
            "Downloading data from https://storage.googleapis.com/tensorflow/keras-applications/mobilenet/mobilenet_1_0_224_tf_no_top.h5\n",
            "17227776/17225924 [==============================] - 1s 0us/step\n"
          ],
          "name": "stdout"
        }
      ]
    },
    {
      "cell_type": "code",
      "metadata": {
        "id": "eYZlLQ2zSc2Q",
        "colab_type": "code",
        "colab": {
          "base_uri": "https://localhost:8080/",
          "height": 386
        },
        "outputId": "c56a3955-1e60-4b79-ec0a-7ccb81c8e7cb"
      },
      "source": [
        "from tensorflow.keras import models\n",
        "from tensorflow.keras import layers\n",
        "from tensorflow.keras import optimizers\n",
        " \n",
        "# Create the model\n",
        "model1 = models.Sequential()\n",
        " \n",
        "model1.add(xcep)\n",
        "# Add new layers\n",
        "model1.add(layers.Flatten())\n",
        "model1.add(layers.BatchNormalization())\n",
        "model1.add(layers.Dropout(0.5))\n",
        "\n",
        "model1.add(layers.Dense(17, activation='softmax'))\n",
        "model1.summary()"
      ],
      "execution_count": null,
      "outputs": [
        {
          "output_type": "stream",
          "text": [
            "Model: \"sequential\"\n",
            "_________________________________________________________________\n",
            "Layer (type)                 Output Shape              Param #   \n",
            "=================================================================\n",
            "mobilenet_1.00_224 (Model)   (None, 7, 7, 1024)        3228864   \n",
            "_________________________________________________________________\n",
            "flatten (Flatten)            (None, 50176)             0         \n",
            "_________________________________________________________________\n",
            "batch_normalization (BatchNo (None, 50176)             200704    \n",
            "_________________________________________________________________\n",
            "dropout (Dropout)            (None, 50176)             0         \n",
            "_________________________________________________________________\n",
            "batch_normalization_1 (Batch (None, 50176)             200704    \n",
            "_________________________________________________________________\n",
            "dropout_1 (Dropout)          (None, 50176)             0         \n",
            "_________________________________________________________________\n",
            "dense (Dense)                (None, 17)                853009    \n",
            "=================================================================\n",
            "Total params: 4,483,281\n",
            "Trainable params: 4,260,689\n",
            "Non-trainable params: 222,592\n",
            "_________________________________________________________________\n"
          ],
          "name": "stdout"
        }
      ]
    },
    {
      "cell_type": "code",
      "metadata": {
        "id": "MwfNEhrdFJLd",
        "colab_type": "code",
        "colab": {
          "base_uri": "https://localhost:8080/",
          "height": 34
        },
        "outputId": "4d4accde-4989-4550-a7b4-e6c5af411ca8"
      },
      "source": [
        "import tensorflow\n",
        "print(tensorflow.__version__)"
      ],
      "execution_count": null,
      "outputs": [
        {
          "output_type": "stream",
          "text": [
            "2.2.0\n"
          ],
          "name": "stdout"
        }
      ]
    },
    {
      "cell_type": "code",
      "metadata": {
        "id": "dD0yg3VPSkhX",
        "colab_type": "code",
        "colab": {}
      },
      "source": [
        "# At first we tried several pre-trained models like MobileNetV2, NasNetMobile and MobileNetV1. \n",
        "# After having look at the models we found that MobileNetV1 provided the best accuracy without overfitting or underfitting.  \n",
        "# Loading the model that we have previously trained Model with 20 epoch \n",
        "model1 = tensorflow.keras.models.load_model('/content/drive/My Drive/SIH_colab_notebooks/pd_mnv1_1.h5')\n"
      ],
      "execution_count": null,
      "outputs": []
    },
    {
      "cell_type": "code",
      "metadata": {
        "id": "C1VGG8oPE4tw",
        "colab_type": "code",
        "colab": {
          "base_uri": "https://localhost:8080/",
          "height": 353
        },
        "outputId": "11f1bc23-b3a7-49f2-d0a2-f10b5ff315b0"
      },
      "source": [
        "# Train the model\n",
        "history = model1.fit_generator(\n",
        "      train_generator,\n",
        "      steps_per_epoch=train_generator.samples/train_generator.batch_size ,\n",
        "      epochs=10,\n",
        "      validation_data=validation_generator,\n",
        "      validation_steps=validation_generator.samples/validation_generator.batch_size,\n",
        "      verbose=1)"
      ],
      "execution_count": null,
      "outputs": [
        {
          "output_type": "stream",
          "text": [
            "Epoch 1/10\n",
            "491/490 [==============================] - 463s 942ms/step - loss: 0.1301 - acc: 0.9569 - val_loss: 0.0836 - val_acc: 0.9752\n",
            "Epoch 2/10\n",
            "491/490 [==============================] - 462s 941ms/step - loss: 0.1152 - acc: 0.9610 - val_loss: 0.0791 - val_acc: 0.9755\n",
            "Epoch 3/10\n",
            "491/490 [==============================] - 462s 941ms/step - loss: 0.1130 - acc: 0.9622 - val_loss: 0.0782 - val_acc: 0.9770\n",
            "Epoch 4/10\n",
            "491/490 [==============================] - 460s 936ms/step - loss: 0.1054 - acc: 0.9656 - val_loss: 0.0697 - val_acc: 0.9798\n",
            "Epoch 5/10\n",
            "491/490 [==============================] - 460s 937ms/step - loss: 0.0987 - acc: 0.9676 - val_loss: 0.0697 - val_acc: 0.9799\n",
            "Epoch 6/10\n",
            "491/490 [==============================] - 459s 935ms/step - loss: 0.0946 - acc: 0.9693 - val_loss: 0.0693 - val_acc: 0.9779\n",
            "Epoch 7/10\n",
            "491/490 [==============================] - 460s 937ms/step - loss: 0.0896 - acc: 0.9696 - val_loss: 0.0669 - val_acc: 0.9804\n",
            "Epoch 8/10\n",
            "491/490 [==============================] - 460s 937ms/step - loss: 0.0856 - acc: 0.9713 - val_loss: 0.0613 - val_acc: 0.9821\n",
            "Epoch 9/10\n",
            "491/490 [==============================] - 460s 937ms/step - loss: 0.0793 - acc: 0.9736 - val_loss: 0.0595 - val_acc: 0.9821\n",
            "Epoch 10/10\n",
            "491/490 [==============================] - 461s 940ms/step - loss: 0.0773 - acc: 0.9740 - val_loss: 0.0586 - val_acc: 0.9831\n"
          ],
          "name": "stdout"
        }
      ]
    },
    {
      "cell_type": "code",
      "metadata": {
        "id": "HJFZ33-ftUxx",
        "colab_type": "code",
        "colab": {
          "base_uri": "https://localhost:8080/",
          "height": 573
        },
        "outputId": "8b802775-942c-4a42-cc56-62b05187ba2a"
      },
      "source": [
        "import matplotlib.pyplot as plt\n",
        "\n",
        "# training and accuracy value\n",
        "plt.plot(history.history['acc'])\n",
        "plt.plot(history.history['val_acc'])\n",
        "plt.title('Model accuracy')\n",
        "plt.xlabel('Epoch')\n",
        "plt.ylabel('Accuracy')\n",
        "plt.legend(['train','val'],loc='upper left')\n",
        "plt.show()\n",
        "\n",
        "# training and loss value\n",
        "plt.plot(history.history['loss'])\n",
        "plt.plot(history.history['val_loss'])\n",
        "plt.title('Model loss')\n",
        "plt.xlabel('Epoch')\n",
        "plt.ylabel('loss')\n",
        "plt.legend(['train','val'],loc='upper left')\n",
        "plt.show()"
      ],
      "execution_count": null,
      "outputs": [
        {
          "output_type": "display_data",
          "data": {
            "image/png": "[encoded data removed]",
            "text/plain": [
              "<Figure size 432x288 with 1 Axes>"
            ]
          },
          "metadata": {
            "tags": [],
            "needs_background": "light"
          }
        },
        {
          "output_type": "display_data",
          "data": {
            "image/png": "[encoded data removed]",
            "text/plain": [
              "<Figure size 432x288 with 1 Axes>"
            ]
          },
          "metadata": {
            "tags": [],
            "needs_background": "light"
          }
        }
      ]
    },
    {
      "cell_type": "code",
      "metadata": {
        "id": "EYopLXDaXjO6",
        "colab_type": "code",
        "colab": {}
      },
      "source": [
        "model1.save('/content/drive/My Drive/SIH_colab_notebooks/pd_mnv1_2.h5')"
      ],
      "execution_count": null,
      "outputs": []
    },
    {
      "cell_type": "code",
      "metadata": {
        "id": "VKt3kgs9qM7F",
        "colab_type": "code",
        "colab": {}
      },
      "source": [
        "import cv2\n",
        "from tensorflow import keras\n",
        "#Loading the model again for testing purposes\n",
        "model1=keras.models.load_model('/content/drive/My Drive/SIH_colab_notebooks/sih_pd_mnv1_1/last_10_epoch/pd_mnv1_2.h5', compile=True)"
      ],
      "execution_count": null,
      "outputs": []
    },
    {
      "cell_type": "code",
      "metadata": {
        "id": "FTv_YBHDqz4z",
        "colab_type": "code",
        "colab": {}
      },
      "source": [
        "diseases=['Corn_(maize)___Cercospora_leaf_spot Gray_leaf_spot','Corn_(maize)___Common_rust','Corn_(maize)___Northern_Leaf_Blight','Corn_(maize)___healthy','Potato___Early_blight',\n",
        " 'Potato___Late_blight',\n",
        " 'Potato___healthy',\n",
        " 'Tomato___Bacterial_spot',\n",
        " 'Tomato___Early_blight',\n",
        " 'Tomato___Late_blight',\n",
        " 'Tomato___Leaf_Mold',\n",
        " 'Tomato___Septoria_leaf_spot',\n",
        " 'Tomato___Spider_mites Two-spotted_spider_mite',\n",
        " 'Tomato___Target_Spot',\n",
        " 'Tomato___Tomato_Yellow_Leaf_Curl_Virus',\n",
        " 'Tomato___Tomato_mosaic_virus',\n",
        " 'Tomato___healthy']"
      ],
      "execution_count": null,
      "outputs": []
    },
    {
      "cell_type": "code",
      "metadata": {
        "id": "c7NvUOdQtosN",
        "colab_type": "code",
        "colab": {
          "base_uri": "https://localhost:8080/",
          "height": 104
        },
        "outputId": "7754a708-508a-49af-8944-184636f7e298"
      },
      "source": [
        "import numpy as np\n",
        "img = cv2.imread('/content/drive/My Drive/Bihar_Crops/test/PotatoEarlyBlight1.JPG')\n",
        "img3 = cv2.cvtColor(img,cv2.COLOR_BGR2RGB)\n",
        "img3 = cv2.resize(img3,(224,224))\n",
        "img4 = np.reshape(img3,[1,224,224,3])\n",
        "img4=img4/255.0\n",
        "disease = model1.predict_classes(img4)\n",
        "print(diseases[disease[0]])"
      ],
      "execution_count": null,
      "outputs": [
        {
          "output_type": "stream",
          "text": [
            "WARNING:tensorflow:From <ipython-input-10-f67a03b9c63d>:7: Sequential.predict_classes (from tensorflow.python.keras.engine.sequential) is deprecated and will be removed after 2021-01-01.\n",
            "Instructions for updating:\n",
            "Please use instead:* `np.argmax(model.predict(x), axis=-1)`,   if your model does multi-class classification   (e.g. if it uses a `softmax` last-layer activation).* `(model.predict(x) > 0.5).astype(\"int32\")`,   if your model does binary classification   (e.g. if it uses a `sigmoid` last-layer activation).\n",
            "Potato___Early_blight\n"
          ],
          "name": "stdout"
        }
      ]
    },
    {
      "cell_type": "code",
      "metadata": {
        "id": "hhyb3Epwvi7o",
        "colab_type": "code",
        "colab": {
          "base_uri": "https://localhost:8080/",
          "height": 34
        },
        "outputId": "2b1a709b-6fa0-4c3f-80a5-cc0be829471a"
      },
      "source": [
        "import numpy as np\n",
        "img = cv2.imread('/content/drive/My Drive/Bihar_Crops/test/self_potato.jpeg')\n",
        "img3 = cv2.cvtColor(img,cv2.COLOR_BGR2RGB)\n",
        "img3 = cv2.resize(img3,(224,224))\n",
        "img4 = np.reshape(img3,[1,224,224,3])\n",
        "img4=img4/255.0\n",
        "disease = model1.predict_classes(img4)\n",
        "print(diseases[disease[0]])"
      ],
      "execution_count": null,
      "outputs": [
        {
          "output_type": "stream",
          "text": [
            "Potato___healthy\n"
          ],
          "name": "stdout"
        }
      ]
    },
    {
      "cell_type": "code",
      "metadata": {
        "id": "4y-PiHWNeBUU",
        "colab_type": "code",
        "colab": {
          "base_uri": "https://localhost:8080/",
          "height": 34
        },
        "outputId": "1c593a85-85eb-4f7f-ffa5-7b2d50fa93fb"
      },
      "source": [
        "import numpy as np\n",
        "img = cv2.imread('/content/drive/My Drive/Bihar_Crops/test/PotatoHealthy1.JPG')\n",
        "img3 = cv2.cvtColor(img,cv2.COLOR_BGR2RGB)\n",
        "img3 = cv2.resize(img3,(224,224))\n",
        "img4 = np.reshape(img3,[1,224,224,3])\n",
        "img4=img4/255.0\n",
        "disease = model1.predict_classes(img4)\n",
        "print(diseases[disease[0]])"
      ],
      "execution_count": null,
      "outputs": [
        {
          "output_type": "stream",
          "text": [
            "Potato___healthy\n"
          ],
          "name": "stdout"
        }
      ]
    },
    {
      "cell_type": "code",
      "metadata": {
        "id": "U4nVlfu8ttqd",
        "colab_type": "code",
        "colab": {
          "base_uri": "https://localhost:8080/",
          "height": 34
        },
        "outputId": "06b41f16-908b-49d3-82a8-b1894c60108d"
      },
      "source": [
        "import numpy as np\n",
        "img = cv2.imread('/content/drive/My Drive/Bihar_Crops/valid/Tomato___Early_blight/0012b9d2-2130-4a06-a834-b1f3af34f57e___RS_Erly.B 8389.JPG')\n",
        "img3 = cv2.cvtColor(img,cv2.COLOR_BGR2RGB)\n",
        "img3 = cv2.resize(img3,(224,224))\n",
        "img4 = np.reshape(img3,[1,224,224,3])\n",
        "img4=img4/255.0\n",
        "disease = model1.predict_classes(img4)\n",
        "print(diseases[disease[0]])"
      ],
      "execution_count": null,
      "outputs": [
        {
          "output_type": "stream",
          "text": [
            "Tomato___Early_blight\n"
          ],
          "name": "stdout"
        }
      ]
    },
    {
      "cell_type": "code",
      "metadata": {
        "id": "Hj7Uz0Z_dGdg",
        "colab_type": "code",
        "colab": {
          "base_uri": "https://localhost:8080/",
          "height": 34
        },
        "outputId": "33e0ad9b-f239-4851-affe-8b4b5da69fc2"
      },
      "source": [
        "import numpy as np\n",
        "img = cv2.imread('/content/drive/My Drive/Bihar_Crops/test/TomatoEarlyBlight6.JPG')\n",
        "img3 = cv2.cvtColor(img,cv2.COLOR_BGR2RGB)\n",
        "img3 = cv2.resize(img3,(224,224))\n",
        "img4 = np.reshape(img3,[1,224,224,3])\n",
        "img4=img4/255.0\n",
        "disease = model1.predict_classes(img4)\n",
        "print(diseases[disease[0]])"
      ],
      "execution_count": null,
      "outputs": [
        {
          "output_type": "stream",
          "text": [
            "Tomato___Early_blight\n"
          ],
          "name": "stdout"
        }
      ]
    },
    {
      "cell_type": "code",
      "metadata": {
        "id": "Dyn3szyXuEvj",
        "colab_type": "code",
        "colab": {
          "base_uri": "https://localhost:8080/",
          "height": 34
        },
        "outputId": "e1a4d9d6-5784-4a35-b6b8-34a542d00470"
      },
      "source": [
        "import numpy as np\n",
        "img = cv2.imread('/content/drive/My Drive/Bihar_Crops/test/TomatoBacterialSpot.JPG')\n",
        "img3 = cv2.cvtColor(img,cv2.COLOR_BGR2RGB)\n",
        "img3 = cv2.resize(img3,(224,224))\n",
        "img4 = np.reshape(img3,[1,224,224,3])\n",
        "img4=img4/255.0\n",
        "disease = model1.predict_classes(img4)\n",
        "print(diseases[disease[0]])"
      ],
      "execution_count": null,
      "outputs": [
        {
          "output_type": "stream",
          "text": [
            "Tomato___Bacterial_spot\n"
          ],
          "name": "stdout"
        }
      ]
    },
    {
      "cell_type": "code",
      "metadata": {
        "id": "dAgekPy4uO49",
        "colab_type": "code",
        "colab": {
          "base_uri": "https://localhost:8080/",
          "height": 34
        },
        "outputId": "26b0ec68-3e44-4024-9e7e-ea5e31c64139"
      },
      "source": [
        "import numpy as np\n",
        "img = cv2.imread('/content/drive/My Drive/Bihar_Crops/test/self_tomato_qwerty.jpeg')\n",
        "img3 = cv2.cvtColor(img,cv2.COLOR_BGR2RGB)\n",
        "img3 = cv2.resize(img3,(224,224))\n",
        "img4 = np.reshape(img3,[1,224,224,3])\n",
        "img4=img4/255.0\n",
        "disease = model1.predict_classes(img4)\n",
        "print(diseases[disease[0]])"
      ],
      "execution_count": null,
      "outputs": [
        {
          "output_type": "stream",
          "text": [
            "Tomato___Late_blight\n"
          ],
          "name": "stdout"
        }
      ]
    },
    {
      "cell_type": "code",
      "metadata": {
        "id": "6mnVePFXvx7h",
        "colab_type": "code",
        "colab": {
          "base_uri": "https://localhost:8080/",
          "height": 34
        },
        "outputId": "b06bdce7-d866-4e91-d071-dcde925b93e9"
      },
      "source": [
        "import numpy as np\n",
        "img = cv2.imread('/content/drive/My Drive/Bihar_Crops/test/self_tomato_dry.jpeg')\n",
        "img3 = cv2.cvtColor(img,cv2.COLOR_BGR2RGB)\n",
        "img3 = cv2.resize(img3,(224,224))\n",
        "img4 = np.reshape(img3,[1,224,224,3])\n",
        "img4=img4/255.0\n",
        "disease = model1.predict_classes(img4)\n",
        "print(diseases[disease[0]])"
      ],
      "execution_count": null,
      "outputs": [
        {
          "output_type": "stream",
          "text": [
            "Tomato___Early_blight\n"
          ],
          "name": "stdout"
        }
      ]
    },
    {
      "cell_type": "code",
      "metadata": {
        "id": "fkL66CstZEXG",
        "colab_type": "code",
        "colab": {
          "base_uri": "https://localhost:8080/",
          "height": 34
        },
        "outputId": "dd8621c1-436c-4cd1-f904-f3602cae81c9"
      },
      "source": [
        "import numpy as np\n",
        "img = cv2.imread('/content/drive/My Drive/Bihar_Crops/valid/Tomato___Septoria_leaf_spot/021f9747-f308-4694-859b-10f541a0e63c___JR_Sept.L.S 2506.JPG')\n",
        "img3 = cv2.cvtColor(img,cv2.COLOR_BGR2RGB)\n",
        "img3 = cv2.resize(img3,(224,224))\n",
        "img4 = np.reshape(img3,[1,224,224,3])\n",
        "img4=img4/255.0\n",
        "disease = model1.predict_classes(img4)\n",
        "print(diseases[disease[0]])"
      ],
      "execution_count": null,
      "outputs": [
        {
          "output_type": "stream",
          "text": [
            "Tomato___Septoria_leaf_spot\n"
          ],
          "name": "stdout"
        }
      ]
    },
    {
      "cell_type": "code",
      "metadata": {
        "id": "u0qEluG9ZZco",
        "colab_type": "code",
        "colab": {
          "base_uri": "https://localhost:8080/",
          "height": 34
        },
        "outputId": "3d957f91-49a1-47e0-9358-087b1e988a5e"
      },
      "source": [
        "import numpy as np\n",
        "img = cv2.imread('/content/drive/My Drive/Bihar_Crops/valid/Tomato___Septoria_leaf_spot/02d2c484-8bdb-4ef2-8d07-0bdb3ac330cc___Matt.S_CG 0975.JPG')\n",
        "img3 = cv2.cvtColor(img,cv2.COLOR_BGR2RGB)\n",
        "img3 = cv2.resize(img3,(224,224))\n",
        "img4 = np.reshape(img3,[1,224,224,3])\n",
        "img4=img4/255.0\n",
        "disease = model1.predict_classes(img4)\n",
        "print(diseases[disease[0]])"
      ],
      "execution_count": null,
      "outputs": [
        {
          "output_type": "stream",
          "text": [
            "Tomato___Septoria_leaf_spot\n"
          ],
          "name": "stdout"
        }
      ]
    },
    {
      "cell_type": "code",
      "metadata": {
        "id": "hubgZjYvuTsh",
        "colab_type": "code",
        "colab": {
          "base_uri": "https://localhost:8080/",
          "height": 34
        },
        "outputId": "66b4e962-4bb7-46f5-e3e3-399defed7939"
      },
      "source": [
        "import numpy as np\n",
        "img = cv2.imread('/content/drive/My Drive/Bihar_Crops/test/self_corn(maize).jpeg')\n",
        "img3 = cv2.cvtColor(img,cv2.COLOR_BGR2RGB)\n",
        "img3 = cv2.resize(img3,(224,224))\n",
        "img4 = np.reshape(img3,[1,224,224,3])\n",
        "img4=img4/255.0\n",
        "disease = model1.predict_classes(img4)\n",
        "print(diseases[disease[0]])"
      ],
      "execution_count": null,
      "outputs": [
        {
          "output_type": "stream",
          "text": [
            "Corn_(maize)___healthy\n"
          ],
          "name": "stdout"
        }
      ]
    },
    {
      "cell_type": "code",
      "metadata": {
        "id": "Z3un8D9AuwZN",
        "colab_type": "code",
        "colab": {
          "base_uri": "https://localhost:8080/",
          "height": 34
        },
        "outputId": "ce8d5251-5f6b-4db3-e9d4-59413fb9b0d1"
      },
      "source": [
        "import numpy as np\n",
        "img = cv2.imread('/content/drive/My Drive/Bihar_Crops/test/self_corn(maize)_1.jpeg')\n",
        "img3 = cv2.cvtColor(img,cv2.COLOR_BGR2RGB)\n",
        "img3 = cv2.resize(img3,(224,224))\n",
        "img4 = np.reshape(img3,[1,224,224,3])\n",
        "img4=img4/255.0\n",
        "disease = model1.predict_classes(img4)\n",
        "print(diseases[disease[0]])"
      ],
      "execution_count": null,
      "outputs": [
        {
          "output_type": "stream",
          "text": [
            "Corn_(maize)___Cercospora_leaf_spot Gray_leaf_spot\n"
          ],
          "name": "stdout"
        }
      ]
    },
    {
      "cell_type": "code",
      "metadata": {
        "id": "VHiVSaBDqqeJ",
        "colab_type": "code",
        "colab": {
          "base_uri": "https://localhost:8080/",
          "height": 34
        },
        "outputId": "ffa37695-1be3-4a6f-d696-1d9fe6628457"
      },
      "source": [
        "import numpy as np\n",
        "img = cv2.imread('/content/drive/My Drive/Bihar_Crops/test/CornCommonRust1.JPG')\n",
        "img3 = cv2.cvtColor(img,cv2.COLOR_BGR2RGB)\n",
        "img3 = cv2.resize(img3,(224,224))\n",
        "img4 = np.reshape(img3,[1,224,224,3])\n",
        "img4=img4/255.0\n",
        "disease = model1.predict_classes(img4)\n",
        "print(diseases[disease[0]])"
      ],
      "execution_count": null,
      "outputs": [
        {
          "output_type": "stream",
          "text": [
            "Corn_(maize)___Common_rust\n"
          ],
          "name": "stdout"
        }
      ]
    }
  ]
}
