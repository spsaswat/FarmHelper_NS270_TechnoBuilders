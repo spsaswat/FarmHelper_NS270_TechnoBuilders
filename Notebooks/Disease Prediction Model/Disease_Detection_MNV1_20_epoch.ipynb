{
  "nbformat": 4,
  "nbformat_minor": 0,
  "metadata": {
    "colab": {
      "name": "mobilenetv2_PlantDisease2.ipynb",
      "provenance": [],
      "collapsed_sections": []
    },
    "kernelspec": {
      "name": "python3",
      "display_name": "Python 3"
    },
    "accelerator": "GPU"
  },
  "cells": [
    {
      "cell_type": "markdown",
      "metadata": {
        "id": "QUiSQsBRSkhL",
        "colab_type": "text"
      },
      "source": [
        "Plant Disease Detection using MobileNet Version 1 First 20 Epochs"
      ]
    },
    {
      "cell_type": "code",
      "metadata": {
        "id": "5Lm94myalKjQ",
        "colab_type": "code",
        "colab": {}
      },
      "source": [
        "from tensorflow.keras.preprocessing.image import ImageDataGenerator"
      ],
      "execution_count": null,
      "outputs": []
    },
    {
      "cell_type": "code",
      "metadata": {
        "id": "pNLV_MhFlqJo",
        "colab_type": "code",
        "colab": {
          "base_uri": "https://localhost:8080/",
          "height": 50
        },
        "outputId": "faa54437-4f0d-47be-e8c3-69b05143dc7f"
      },
      "source": [
        "# Performing Data Augmentation Using rotation, width shift, height shift and horizontal flipping",
        " \n",
        "train_datagen = ImageDataGenerator(\n",
        "      rescale=1./255,\n",
        "      rotation_range=20,\n",
        "      width_shift_range=0.2,\n",
        "      height_shift_range=0.2,\n",
        "      horizontal_flip=True,\n",
        "      fill_mode='nearest'\n",
        ")\n",
        " \n",
        "validation_datagen = ImageDataGenerator(rescale=1./255)\n",
        " \n",
        "# Change the batchsize according to system RAM\n",
        "train_batchsize = 64\n",
        "val_batchsize = 54\n",
        " \n",
        "train_generator = train_datagen.flow_from_directory(\n",
        "        '/content/drive/My Drive/Bihar_Crops/train',\n",
        "        target_size=(224,224),\n",
        "        batch_size=train_batchsize,\n",
        "        class_mode='categorical')\n",
        " \n",
        "validation_generator = validation_datagen.flow_from_directory(\n",
        "        '/content/drive/My Drive/Bihar_Crops/valid',\n",
        "        target_size=(224,224),\n",
        "        batch_size=val_batchsize,\n",
        "        class_mode='categorical',\n",
        "        shuffle=True)"
      ],
      "execution_count": null,
      "outputs": [
        {
          "output_type": "stream",
          "text": [
            "Found 31373 images belonging to 17 classes.\n",
            "Found 7811 images belonging to 17 classes.\n"
          ],
          "name": "stdout"
        }
      ]
    },
    {
      "cell_type": "code",
      "metadata": {
        "id": "vVG_ONlSXFti",
        "colab_type": "code",
        "colab": {
          "base_uri": "https://localhost:8080/",
          "height": 121
        },
        "outputId": "7d64ff4d-bf2e-4a0f-c051-5872223f7f56"
      },
      "source": [
        "from google.colab import drive\n",
        "drive.mount('/content/drive')"
      ],
      "execution_count": null,
      "outputs": [
        {
          "output_type": "stream",
          "text": [
            "Go to this URL in a browser: https://accounts.google.com/o/oauth2/auth?client_id=947318989803-6bn6qk8qdgf4n4g3pfee6491hc0brc4i.apps.googleusercontent.com&redirect_uri=urn%3aietf%3awg%3aoauth%3a2.0%3aoob&response_type=code&scope=email%20https%3a%2f%2fwww.googleapis.com%2fauth%2fdocs.test%20https%3a%2f%2fwww.googleapis.com%2fauth%2fdrive%20https%3a%2f%2fwww.googleapis.com%2fauth%2fdrive.photos.readonly%20https%3a%2f%2fwww.googleapis.com%2fauth%2fpeopleapi.readonly\n",
            "\n",
            "Enter your authorization code:\n",
            "··········\n",
            "Mounted at /content/drive\n"
          ],
          "name": "stdout"
        }
      ]
    },
    {
      "cell_type": "code",
      "metadata": {
        "id": "DHl-S0-qD3OE",
        "colab_type": "code",
        "colab": {
          "base_uri": "https://localhost:8080/",
          "height": 50
        },
        "outputId": "c4af24d3-2484-4620-b966-7fa87c393df8"
      },
      "source": [
        "from tensorflow.keras.applications.mobilenet import MobileNet\n",
        "xcep = MobileNet(weights='imagenet', include_top=False, input_shape=(224,224, 3)) "
      ],
      "execution_count": null,
      "outputs": [
        {
          "output_type": "stream",
          "text": [
            "Downloading data from https://storage.googleapis.com/tensorflow/keras-applications/mobilenet/mobilenet_1_0_224_tf_no_top.h5\n",
            "17227776/17225924 [==============================] - 0s 0us/step\n"
          ],
          "name": "stdout"
        }
      ]
    },
    {
      "cell_type": "code",
      "metadata": {
        "id": "eYZlLQ2zSc2Q",
        "colab_type": "code",
        "colab": {
          "base_uri": "https://localhost:8080/",
          "height": 386
        },
        "outputId": "6270ee35-6747-4f0c-e45d-07d9c4071f60"
      },
      "source": [
        "from tensorflow.keras import models\n",
        "from tensorflow.keras import layers\n",
        "from tensorflow.keras import optimizers\n",
        " \n",
        "# Create the model\n",
        "model1 = models.Sequential()\n",
        " \n",
        "model1.add(xcep)\n",
        "# Add new layers\n",
        "model1.add(layers.Flatten())\n",
        "model1.add(layers.BatchNormalization())\n",
        "model1.add(layers.Dropout(0.5))\n",
        "\n",
        "model1.add(layers.Dense(17, activation='softmax'))\n",
        "model1.summary()"
      ],
      "execution_count": null,
      "outputs": [
        {
          "output_type": "stream",
          "text": [
            "Model: \"sequential_1\"\n",
            "_________________________________________________________________\n",
            "Layer (type)                 Output Shape              Param #   \n",
            "=================================================================\n",
            "mobilenet_1.00_224 (Model)   (None, 7, 7, 1024)        3228864   \n",
            "_________________________________________________________________\n",
            "flatten_1 (Flatten)          (None, 50176)             0         \n",
            "_________________________________________________________________\n",
            "batch_normalization_2 (Batch (None, 50176)             200704    \n",
            "_________________________________________________________________\n",
            "dropout_2 (Dropout)          (None, 50176)             0         \n",
            "_________________________________________________________________\n",
            "batch_normalization_3 (Batch (None, 50176)             200704    \n",
            "_________________________________________________________________\n",
            "dropout_3 (Dropout)          (None, 50176)             0         \n",
            "_________________________________________________________________\n",
            "dense_1 (Dense)              (None, 17)                853009    \n",
            "=================================================================\n",
            "Total params: 4,483,281\n",
            "Trainable params: 4,260,689\n",
            "Non-trainable params: 222,592\n",
            "_________________________________________________________________\n"
          ],
          "name": "stdout"
        }
      ]
    },
    {
      "cell_type": "code",
      "metadata": {
        "id": "MwfNEhrdFJLd",
        "colab_type": "code",
        "colab": {
          "base_uri": "https://localhost:8080/",
          "height": 34
        },
        "outputId": "5af60afc-d42e-4d4e-ae19-0ecc7c1b8c67"
      },
      "source": [
        "import tensorflow\n",
        "print(tensorflow.__version__)"
      ],
      "execution_count": null,
      "outputs": [
        {
          "output_type": "stream",
          "text": [
            "2.2.0\n"
          ],
          "name": "stdout"
        }
      ]
    },
    {
      "cell_type": "code",
      "metadata": {
        "id": "dD0yg3VPSkhX",
        "colab_type": "code",
        "colab": {}
      },
      "source": [
        "# compiling the model   \n",
        "model1.compile(loss='categorical_crossentropy',\n",
        "              optimizer=optimizers.RMSprop(lr=1e-5),\n",
        "              metrics=['acc'])\n"
      ],
      "execution_count": null,
      "outputs": []
    },
    {
      "cell_type": "code",
      "metadata": {
        "id": "C1VGG8oPE4tw",
        "colab_type": "code",
        "colab": {
          "base_uri": "https://localhost:8080/",
          "height": 689
        },
        "outputId": "cfb10aa3-cc48-4131-b765-d36621ec2af0"
      },
      "source": [
        "# Train the model\n",
        "history = model1.fit_generator(\n",
        "      train_generator,\n",
        "      steps_per_epoch=train_generator.samples/train_generator.batch_size ,\n",
        "      epochs=20,\n",
        "      validation_data=validation_generator,\n",
        "      validation_steps=validation_generator.samples/validation_generator.batch_size,\n",
        "      verbose=1)"
      ],
      "execution_count": null,
      "outputs": [
        {
          "output_type": "stream",
          "text": [
            "Epoch 1/20\n",
            "491/490 [==============================] - 465s 947ms/step - loss: 2.7422 - acc: 0.2873 - val_loss: 0.9009 - val_acc: 0.7212\n",
            "Epoch 2/20\n",
            "491/490 [==============================] - 463s 942ms/step - loss: 1.4104 - acc: 0.5780 - val_loss: 0.5221 - val_acc: 0.8342\n",
            "Epoch 3/20\n",
            "491/490 [==============================] - 463s 943ms/step - loss: 0.9398 - acc: 0.7048 - val_loss: 0.3707 - val_acc: 0.8784\n",
            "Epoch 4/20\n",
            "491/490 [==============================] - 465s 946ms/step - loss: 0.7067 - acc: 0.7734 - val_loss: 0.2948 - val_acc: 0.9039\n",
            "Epoch 5/20\n",
            "491/490 [==============================] - 464s 945ms/step - loss: 0.5738 - acc: 0.8167 - val_loss: 0.2443 - val_acc: 0.9190\n",
            "Epoch 6/20\n",
            "491/490 [==============================] - 463s 943ms/step - loss: 0.4642 - acc: 0.8496 - val_loss: 0.2130 - val_acc: 0.9297\n",
            "Epoch 7/20\n",
            "491/490 [==============================] - 465s 946ms/step - loss: 0.4046 - acc: 0.8679 - val_loss: 0.1915 - val_acc: 0.9388\n",
            "Epoch 8/20\n",
            "491/490 [==============================] - 466s 948ms/step - loss: 0.3552 - acc: 0.8869 - val_loss: 0.1713 - val_acc: 0.9435\n",
            "Epoch 9/20\n",
            "491/490 [==============================] - 460s 936ms/step - loss: 0.3112 - acc: 0.9006 - val_loss: 0.1584 - val_acc: 0.9488\n",
            "Epoch 10/20\n",
            "491/490 [==============================] - 464s 944ms/step - loss: 0.2871 - acc: 0.9071 - val_loss: 0.1406 - val_acc: 0.9557\n",
            "Epoch 11/20\n",
            "491/490 [==============================] - 461s 940ms/step - loss: 0.2557 - acc: 0.9172 - val_loss: 0.1339 - val_acc: 0.9585\n",
            "Epoch 12/20\n",
            "491/490 [==============================] - 463s 944ms/step - loss: 0.2359 - acc: 0.9224 - val_loss: 0.1195 - val_acc: 0.9624\n",
            "Epoch 13/20\n",
            "491/490 [==============================] - 462s 941ms/step - loss: 0.2184 - acc: 0.9287 - val_loss: 0.1153 - val_acc: 0.9635\n",
            "Epoch 14/20\n",
            "491/490 [==============================] - 464s 946ms/step - loss: 0.1988 - acc: 0.9336 - val_loss: 0.1078 - val_acc: 0.9653\n",
            "Epoch 15/20\n",
            "491/490 [==============================] - 464s 944ms/step - loss: 0.1796 - acc: 0.9417 - val_loss: 0.1051 - val_acc: 0.9656\n",
            "Epoch 16/20\n",
            "491/490 [==============================] - 463s 944ms/step - loss: 0.1769 - acc: 0.9421 - val_loss: 0.1007 - val_acc: 0.9672\n",
            "Epoch 17/20\n",
            "491/490 [==============================] - 466s 949ms/step - loss: 0.1587 - acc: 0.9479 - val_loss: 0.0938 - val_acc: 0.9699\n",
            "Epoch 18/20\n",
            "491/490 [==============================] - 465s 947ms/step - loss: 0.1485 - acc: 0.9504 - val_loss: 0.0922 - val_acc: 0.9709\n",
            "Epoch 19/20\n",
            "491/490 [==============================] - 467s 952ms/step - loss: 0.1368 - acc: 0.9552 - val_loss: 0.0889 - val_acc: 0.9723\n",
            "Epoch 20/20\n",
            "491/490 [==============================] - 468s 953ms/step - loss: 0.1270 - acc: 0.9594 - val_loss: 0.0877 - val_acc: 0.9729\n"
          ],
          "name": "stdout"
        }
      ]
    },
    {
      "cell_type": "code",
      "metadata": {
        "id": "HJFZ33-ftUxx",
        "colab_type": "code",
        "colab": {
          "base_uri": "https://localhost:8080/",
          "height": 573
        },
        "outputId": "14f5648f-fa89-45e5-8e09-c865644534db"
      },
      "source": [
        "import matplotlib.pyplot as plt\n",
        "\n",
        "# training and accuracy value\n",
        "plt.plot(history.history['acc'])\n",
        "plt.plot(history.history['val_acc'])\n",
        "plt.title('Model accuracy')\n",
        "plt.xlabel('Epoch')\n",
        "plt.ylabel('Accuracy')\n",
        "plt.legend(['train','val'],loc='upper left')\n",
        "plt.show()\n",
        "\n",
        "# training and loss value\n",
        "plt.plot(history.history['loss'])\n",
        "plt.plot(history.history['val_loss'])\n",
        "plt.title('Model loss')\n",
        "plt.xlabel('Epoch')\n",
        "plt.ylabel('loss')\n",
        "plt.legend(['train','val'],loc='upper left')\n",
        "plt.show()"
      ],
      "execution_count": null,
      "outputs": [
        {
          "output_type": "display_data",
          "data": {
            "image/png": "[encoded data removed]",
            "text/plain": [
              "<Figure size 432x288 with 1 Axes>"
            ]
          },
          "metadata": {
            "tags": [],
            "needs_background": "light"
          }
        },
        {
          "output_type": "display_data",
          "data": {
            "image/png": "[encoded data removed]",
            "text/plain": [
              "<Figure size 432x288 with 1 Axes>"
            ]
          },
          "metadata": {
            "tags": [],
            "needs_background": "light"
          }
        }
      ]
    },
    {
      "cell_type": "code",
      "metadata": {
        "id": "EYopLXDaXjO6",
        "colab_type": "code",
        "colab": {}
      },
      "source": [
        "model1.save('/content/drive/My Drive/SIH_colab_notebooks/pd_mnv1_1.h5')"
      ],
      "execution_count": null,
      "outputs": []
    }
  ]
}
